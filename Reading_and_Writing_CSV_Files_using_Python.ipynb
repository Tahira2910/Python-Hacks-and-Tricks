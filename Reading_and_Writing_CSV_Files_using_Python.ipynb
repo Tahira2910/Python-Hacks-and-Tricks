{
  "nbformat": 4,
  "nbformat_minor": 0,
  "metadata": {
    "colab": {
      "provenance": []
    },
    "kernelspec": {
      "name": "python3",
      "display_name": "Python 3"
    },
    "language_info": {
      "name": "python"
    }
  },
  "cells": [
    {
      "cell_type": "code",
      "execution_count": 11,
      "metadata": {
        "colab": {
          "base_uri": "https://localhost:8080/"
        },
        "id": "78t1MWZ0oskJ",
        "outputId": "94c73542-5431-4926-8016-feb26c4ccdff"
      },
      "outputs": [
        {
          "output_type": "stream",
          "name": "stdout",
          "text": [
            "         Name  Age\n",
            "0       Naira   24\n",
            "1      Tahira   23\n",
            "2        Hira   22\n",
            "3  Mah Jabeen   23\n"
          ]
        }
      ],
      "source": [
        "# writing in a csv file\n",
        "import csv\n",
        "import pandas as pd\n",
        "data = {\"Name\": [\"Naira\", \"Tahira\",\"Hira\", \"Mah Jabeen\"],\n",
        "        \"Age\": [24, 23, 22, 23]}\n",
        "data = pd.DataFrame(data)\n",
        "data.to_csv(\"Friends.csv\", index=False)\n",
        "print(data.head())"
      ]
    },
    {
      "cell_type": "code",
      "source": [
        "# reading a csv file\n",
        "import pandas as pd\n",
        "data = pd.read_csv(\"Friends.csv\")\n",
        "print(data.head())"
      ],
      "metadata": {
        "colab": {
          "base_uri": "https://localhost:8080/"
        },
        "id": "2YNR1a2-p1RR",
        "outputId": "059ff0d2-d57f-4941-9f81-916b76ed00b6"
      },
      "execution_count": 12,
      "outputs": [
        {
          "output_type": "stream",
          "name": "stdout",
          "text": [
            "         Name  Age\n",
            "0       Naira   24\n",
            "1      Tahira   23\n",
            "2        Hira   22\n",
            "3  Mah Jabeen   23\n"
          ]
        }
      ]
    }
  ]
}