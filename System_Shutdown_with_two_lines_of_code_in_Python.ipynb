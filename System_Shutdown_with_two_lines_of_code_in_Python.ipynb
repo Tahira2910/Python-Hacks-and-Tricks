{
  "nbformat": 4,
  "nbformat_minor": 0,
  "metadata": {
    "colab": {
      "provenance": []
    },
    "kernelspec": {
      "name": "python3",
      "display_name": "Python 3"
    },
    "language_info": {
      "name": "python"
    }
  },
  "cells": [
    {
      "cell_type": "code",
      "execution_count": 1,
      "metadata": {
        "id": "3Lr4O17liH7g"
      },
      "outputs": [],
      "source": [
        "import os"
      ]
    },
    {
      "cell_type": "code",
      "source": [
        "os.system('shutdown -s')"
      ],
      "metadata": {
        "id": "U6fFNH4AiTgH"
      },
      "execution_count": null,
      "outputs": []
    }
  ]
}