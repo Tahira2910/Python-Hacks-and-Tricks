{
  "nbformat": 4,
  "nbformat_minor": 0,
  "metadata": {
    "colab": {
      "provenance": []
    },
    "kernelspec": {
      "name": "python3",
      "display_name": "Python 3"
    },
    "language_info": {
      "name": "python"
    }
  },
  "cells": [
    {
      "cell_type": "code",
      "execution_count": null,
      "metadata": {
        "id": "YYxC3GxhQZUa"
      },
      "outputs": [],
      "source": [
        "pip install instabot"
      ]
    },
    {
      "cell_type": "code",
      "source": [
        "from instabot import Bot\n",
        "bot = Bot()\n",
        "\n",
        "bot.login(username=\"Write your Username\", password=\"Write your Instagram Account Password\")\n",
        "bot.send_message(\"Hey Amigo! \", [\"Write Receiver's Username\"])\n"
      ],
      "metadata": {
        "id": "wtbJCfzyTZPQ"
      },
      "execution_count": null,
      "outputs": []
    }
  ]
}