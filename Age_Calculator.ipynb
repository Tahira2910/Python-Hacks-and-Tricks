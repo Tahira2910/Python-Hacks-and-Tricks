{
  "nbformat": 4,
  "nbformat_minor": 0,
  "metadata": {
    "colab": {
      "provenance": []
    },
    "kernelspec": {
      "name": "python3",
      "display_name": "Python 3"
    },
    "language_info": {
      "name": "python"
    }
  },
  "cells": [
    {
      "cell_type": "code",
      "execution_count": 2,
      "metadata": {
        "colab": {
          "base_uri": "https://localhost:8080/"
        },
        "id": "GrMHDwsog4LY",
        "outputId": "6fcda1f5-a1c2-465d-8099-3ef4546d0fd9"
      },
      "outputs": [
        {
          "output_type": "stream",
          "name": "stdout",
          "text": [
            "23\n"
          ]
        }
      ],
      "source": [
        "def ageCalculator(y, m, d):\n",
        "    import datetime\n",
        "    today = datetime.datetime.now().date()\n",
        "    dob = datetime.date(y, m, d)\n",
        "    age = int((today-dob).days / 365.25)\n",
        "    print(age)\n",
        "ageCalculator(1999, 9, 3)"
      ]
    }
  ]
}