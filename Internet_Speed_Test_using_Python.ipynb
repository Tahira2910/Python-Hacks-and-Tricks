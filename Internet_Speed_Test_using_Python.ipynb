{
  "cells": [
    {
      "cell_type": "code",
      "execution_count": 1,
      "metadata": {
        "colab": {
          "base_uri": "https://localhost:8080/"
        },
        "id": "EnCgUsNYnoh8",
        "outputId": "2894e3a0-82c4-4bdd-e3b6-f5b5a061d699"
      },
      "outputs": [
        {
          "output_type": "stream",
          "name": "stdout",
          "text": [
            "\u001b[33mWARNING: Skipping speedtest as it is not installed.\u001b[0m\u001b[33m\n",
            "\u001b[0m"
          ]
        }
      ],
      "source": [
        "# pip install speedtest-cli\n",
        "!pip uninstall speedtest"
      ]
    },
    {
      "cell_type": "code",
      "source": [
        " pip install speedtest-cli"
      ],
      "metadata": {
        "colab": {
          "base_uri": "https://localhost:8080/"
        },
        "id": "7eJs5Gs2w8vV",
        "outputId": "38519bc0-f2b3-43cc-fc38-887a2a50485e"
      },
      "execution_count": 2,
      "outputs": [
        {
          "output_type": "stream",
          "name": "stdout",
          "text": [
            "Looking in indexes: https://pypi.org/simple, https://us-python.pkg.dev/colab-wheels/public/simple/\n",
            "Collecting speedtest-cli\n",
            "  Downloading speedtest_cli-2.1.3-py2.py3-none-any.whl (23 kB)\n",
            "Installing collected packages: speedtest-cli\n",
            "Successfully installed speedtest-cli-2.1.3\n"
          ]
        }
      ]
    },
    {
      "cell_type": "code",
      "execution_count": 3,
      "metadata": {
        "id": "VOXannapnpg8"
      },
      "outputs": [],
      "source": [
        "import speedtest\n"
      ]
    },
    {
      "cell_type": "code",
      "source": [
        "wifi  = speedtest.Speedtest()\n",
        "print(\"Wifi Download Speed is \", wifi.download())\n",
        "print(\"Wifi Upload Speed is \", wifi.upload())"
      ],
      "metadata": {
        "colab": {
          "base_uri": "https://localhost:8080/"
        },
        "id": "aAujIS0mxCOm",
        "outputId": "62d42872-d021-4ed4-fa01-a8c9d1366519"
      },
      "execution_count": 4,
      "outputs": [
        {
          "output_type": "stream",
          "name": "stdout",
          "text": [
            "Wifi Download Speed is  2181643629.524533\n",
            "Wifi Upload Speed is  528924147.5803382\n"
          ]
        }
      ]
    }
  ],
  "metadata": {
    "colab": {
      "provenance": []
    },
    "kernelspec": {
      "display_name": "Python 3",
      "name": "python3"
    },
    "language_info": {
      "name": "python"
    }
  },
  "nbformat": 4,
  "nbformat_minor": 0
}